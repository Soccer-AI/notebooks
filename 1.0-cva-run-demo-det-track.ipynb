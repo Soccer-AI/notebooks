{
  "cells": [
    {
      "cell_type": "markdown",
      "metadata": {
        "id": "dzeLFEARcoYx"
      },
      "source": [
        "## Common part"
      ]
    },
    {
      "cell_type": "code",
      "execution_count": null,
      "metadata": {
        "colab": {
          "base_uri": "https://localhost:8080/"
        },
        "id": "q9VC3jtDdKrn",
        "outputId": "1fe4eca9-29f6-419b-f852-dc996248a715"
      },
      "outputs": [],
      "source": [
        "!pip install -q gwpy"
      ]
    },
    {
      "cell_type": "code",
      "execution_count": null,
      "metadata": {
        "colab": {
          "base_uri": "https://localhost:8080/"
        },
        "id": "XbFVcQubbWpb",
        "outputId": "bccd6cf9-d835-4e40-c728-f937c82c9ffd"
      },
      "outputs": [],
      "source": [
        "# == Mount google colab folder\n",
        "from google.colab import drive\n",
        "drive.mount('/content/drive')"
      ]
    },
    {
      "cell_type": "code",
      "execution_count": null,
      "metadata": {
        "id": "vetUpX3O99dJ"
      },
      "outputs": [],
      "source": [
        "import os\n",
        "\n",
        "# INPUT_VIDEO = \"/content/drive/MyDrive/kaggle/datasets/dfl-bundesliga-data-shootout/train/1606b0e6_0.mp4\"\n",
        "INPUT_VIDEO = \"/content/drive/MyDrive/1606b0e6_0.mp4\"\n",
        "TEMP_DIR = \"/content/tmp_video\"\n",
        "OUTPUT_DIR = \"/content/clip_video\"\n",
        "input_video_fn = os.path.basename(INPUT_VIDEO)\n",
        "input_video_name = input_video_fn.split('.')[0]\n",
        "\n",
        "if not os.path.exists(TEMP_DIR):\n",
        "    os.makedirs(TEMP_DIR)\n",
        "if not os.path.exists(OUTPUT_DIR):\n",
        "    os.makedirs(OUTPUT_DIR)"
      ]
    },
    {
      "cell_type": "markdown",
      "metadata": {
        "id": "OfJZm9erczAl"
      },
      "source": [
        "## Use bytetrack for given video"
      ]
    },
    {
      "cell_type": "code",
      "execution_count": null,
      "metadata": {
        "id": "QCVvFCX6z03x"
      },
      "outputs": [],
      "source": [
        "%%capture\n",
        "# == Download the repo content and install dependencies ==\n",
        "!git clone https://github.com/ifzhang/ByteTrack.git\n",
        "%cd /content/ByteTrack/\n",
        "%mkdir pretrained\n",
        "%cd pretrained\n",
        "\n",
        "# == Download pretrained X model weights ==\n",
        "!gdown --id \"1P4mY0Yyd3PPTybgZkjMYhFri88nTmJX5\"\n",
        "!gdown --id \"11Zb0NN_Uu7JwUd9e6Nk8o2_EUfxWqsun\"\n",
        "!gdown --id \"1uSmhXzyV1Zvb4TJJCzpsZOIcw7CCJLxj\""
      ]
    },
    {
      "cell_type": "code",
      "execution_count": null,
      "metadata": {
        "id": "46hQmpmo0Wby"
      },
      "outputs": [],
      "source": [
        "%%capture\n",
        "# == Install dependencies ==\n",
        "!pip3 install cython\n",
        "!pip3 install 'git+https://github.com/cocodataset/cocoapi.git#subdirectory=PythonAPI'\n",
        "!pip3 install cython_bbox\n",
        "\n",
        "%cd /content/ByteTrack/\n",
        "!pip3 install -r requirements.txt"
      ]
    },
    {
      "cell_type": "code",
      "execution_count": null,
      "metadata": {
        "id": "kcuzq_MJ1EmK"
      },
      "outputs": [],
      "source": [
        "%%capture\n",
        "# == Install ByteTrack ==\n",
        "!python3 setup.py develop"
      ]
    },
    {
      "cell_type": "code",
      "execution_count": null,
      "metadata": {
        "colab": {
          "base_uri": "https://localhost:8080/"
        },
        "id": "ltuE2zQk1kK_",
        "outputId": "9cbd7a76-6106-4877-ec5f-9b70fa39d8fe"
      },
      "outputs": [],
      "source": [
        "# run inference demo (can be slow on colab). The cell output is deflected to the file 'log.txt' for downstream use to display the result but feel free to remove \n",
        "%cd /content/ByteTrack\n",
        "!python3 tools/demo_track.py video \\\n",
        "         --path $INPUT_VIDEO \\\n",
        "         -f exps/example/mot/yolox_m_mix_det.py \\\n",
        "         -c pretrained/bytetrack_m_mot17.pth.tar \\\n",
        "         --fp16 --fuse --save_result &> log.txt"
      ]
    },
    {
      "cell_type": "code",
      "execution_count": null,
      "metadata": {
        "id": "mOgkFvs3Sqog"
      },
      "outputs": [],
      "source": [
        "# == Get rendered result video file path ==\n",
        "import re\n",
        "%cd /content/ByteTrack\n",
        "with open('log.txt', 'r') as file:\n",
        "    text = file.read().replace('\\n', '')\n",
        "\n",
        "m = re.search('video save_path is ./(.+?).mp4', text)\n",
        "if m:\n",
        "    found = '/content/ByteTrack/' + m.group(1) + \".mp4\"\n",
        "found"
      ]
    },
    {
      "cell_type": "code",
      "execution_count": null,
      "metadata": {
        "id": "n6aZY9TtAy0_"
      },
      "outputs": [],
      "source": [
        "import shutil\n",
        "shutil.copy(found, TEMP_DIR)"
      ]
    },
    {
      "cell_type": "code",
      "execution_count": null,
      "metadata": {
        "id": "KSPTLXVNOEfO"
      },
      "outputs": [],
      "source": [
        "TMP_VIDEO = f\"{TEMP_DIR}/{input_video_fn}\""
      ]
    },
    {
      "cell_type": "code",
      "execution_count": null,
      "metadata": {
        "id": "ryCT5eucwpq0"
      },
      "outputs": [],
      "source": [
        "!cp /content/drive/MyDrive/tracking/1606b0e6_0.mp4 /content/tmp_video/1606b0e6_0.mp4"
      ]
    },
    {
      "cell_type": "code",
      "execution_count": null,
      "metadata": {
        "colab": {
          "base_uri": "https://localhost:8080/",
          "height": 35
        },
        "id": "rPPwClS3iVhf",
        "outputId": "8a573bff-4b51-4590-a542-5f67179bbaac"
      },
      "outputs": [],
      "source": [
        "TMP_VIDEO"
      ]
    },
    {
      "cell_type": "markdown",
      "metadata": {
        "id": "a0EQKL5fcVoT"
      },
      "source": [
        "## Cut video by given timestamp "
      ]
    },
    {
      "cell_type": "code",
      "execution_count": null,
      "metadata": {
        "colab": {
          "base_uri": "https://localhost:8080/"
        },
        "id": "6JOxn1IHVcIe",
        "outputId": "3ec6e431-c6e0-4c78-b810-4cd7d7c89ac9"
      },
      "outputs": [],
      "source": [
        "!pip install minio\n",
        "!pip install imageio_ffmpeg"
      ]
    },
    {
      "cell_type": "code",
      "execution_count": null,
      "metadata": {
        "id": "l4z8karELJ2q"
      },
      "outputs": [],
      "source": [
        "import uuid\n",
        "import time\n",
        "import pandas as pd\n",
        "from tqdm import tqdm\n",
        "\n",
        "import subprocess\n",
        "from moviepy.video.io.ffmpeg_tools import ffmpeg_extract_subclip\n",
        "\n",
        "from minio import Minio\n",
        "from minio.error import S3Error\n",
        "\n",
        "import psycopg2\n",
        "from psycopg2 import OperationalError\n"
      ]
    },
    {
      "cell_type": "code",
      "execution_count": null,
      "metadata": {
        "id": "7N0DJrt6LcQ9"
      },
      "outputs": [],
      "source": [
        "MARKUP_FILE = \"/content/drive/MyDrive/kaggle/datasets/dfl-bundesliga-data-shootout/train.csv\"\n",
        "TIME_WINDOW = 5"
      ]
    },
    {
      "cell_type": "markdown",
      "metadata": {
        "id": "38wxHh0QFZ0C"
      },
      "source": [
        "### Minio Setting"
      ]
    },
    {
      "cell_type": "code",
      "execution_count": null,
      "metadata": {
        "id": "XJ7T6rdOFYBl"
      },
      "outputs": [],
      "source": [
        "MINIO_ENDPOINT_URL = \n",
        "MINIO_ACCESS_KEY = \n",
        "MINIO_SECRET_KEY = \n",
        "MINIO_BUCKET =\n",
        "\n",
        "client = Minio(\n",
        "        MINIO_ENDPOINT_URL,\n",
        "        access_key=MINIO_ACCESS_KEY,\n",
        "        secret_key=MINIO_SECRET_KEY,\n",
        "        secure=False\n",
        ")\n",
        "\n",
        "def add_file_to_s3(input_path, object_name):\n",
        "    found = client.bucket_exists(MINIO_BUCKET)\n",
        "    assert found == True\n",
        "    client.fput_object(MINIO_BUCKET, object_name, input_path)\n",
        "\n",
        "def get_file_to_s3(object_name, file_path):\n",
        "    found = client.bucket_exists(MINIO_BUCKET)\n",
        "    assert found == True\n",
        "    client.fget_object(MINIO_BUCKET, object_name, file_path)"
      ]
    },
    {
      "cell_type": "markdown",
      "metadata": {
        "id": "yVrbWGkNFbyg"
      },
      "source": [
        "### Postgres Setting"
      ]
    },
    {
      "cell_type": "code",
      "execution_count": null,
      "metadata": {
        "id": "l54uGo_7Fi_y"
      },
      "outputs": [],
      "source": [
        "POSTGRES_USER=\n",
        "POSTGRES_PASSWORD=\n",
        "POSTGRES_DB=\n",
        "POSTGRES_HOST=\n",
        "POSTGRES_PORT=\n",
        "\n",
        "def pg_create_connection(db_name, db_user, db_password, db_host, db_port):\n",
        "    connection = None\n",
        "    try:\n",
        "        connection = psycopg2.connect(database=db_name,\n",
        "                                      user=db_user,\n",
        "                                      password=db_password,\n",
        "                                      host=db_host,\n",
        "                                      port=db_port,)\n",
        "        connection.autocommit = True\n",
        "    except OperationalError as ex:\n",
        "        print(f\"The ERROR {ex} occurred\")\n",
        "    return connection\n",
        "\n",
        "connection = pg_create_connection(POSTGRES_DB, \n",
        "                                  POSTGRES_USER, \n",
        "                                  POSTGRES_PASSWORD, \n",
        "                                  POSTGRES_HOST,\n",
        "                                  POSTGRES_PORT)\n",
        "\n",
        "def pg_insert_query(query, param=()):\n",
        "    with connection.cursor() as cursor:\n",
        "        try:\n",
        "            cursor.execute(query, param)\n",
        "        except OperationalError as ex:\n",
        "            print(f\"The ERROR {ex} occurred\")\n",
        "\n",
        "def pg_one_select_query(query, param=()):\n",
        "    with connection.cursor() as cursor:\n",
        "        try:\n",
        "            cursor.execute(query, param)\n",
        "            hander = cursor.fetchone()[0]\n",
        "            return hander\n",
        "        except OperationalError as ex:\n",
        "            print(f\"The ERROR {ex} occurred\")\n",
        "\n",
        "def pg_many_select_query(query, param=()):\n",
        "    with connection.cursor() as cursor:\n",
        "        try:\n",
        "            cursor.execute(query, param)\n",
        "            return cursor.fetchall()\n",
        "        except OperationalError as ex:\n",
        "          print(f\"The ERROR {ex} occurred\")\n",
        "\n",
        "def add_clip_to_db(video_id, action_type, stime, clip_path):\n",
        "  action_id = pg_one_select_query(query=f\"\"\"\n",
        "                                  SELECT id FROM public.action_types\n",
        "                                  WHERE name=%s;\n",
        "                                  \"\"\", param=(action_type,))\n",
        "  query = f\"\"\"\n",
        "      INSERT INTO events(id_video, id_action, time, clip_path)\n",
        "      VALUES (%s, %s, %s, %s)\n",
        "      RETURNING id;\n",
        "  \"\"\"\n",
        "  pg_insert_query(query=query,\n",
        "                  param=(video_id, action_id, stime, clip_path))"
      ]
    },
    {
      "cell_type": "markdown",
      "metadata": {
        "id": "OYmzEdDXMg9t"
      },
      "source": [
        "### Get preview from video"
      ]
    },
    {
      "cell_type": "code",
      "execution_count": null,
      "metadata": {
        "id": "2Fd34l5RN22_"
      },
      "outputs": [],
      "source": [
        "import cv2\n",
        "from google.colab.patches import cv2_imshow"
      ]
    },
    {
      "cell_type": "code",
      "execution_count": null,
      "metadata": {
        "id": "bmuIC25VOdW0"
      },
      "outputs": [],
      "source": [
        "query_video_id = pg_many_select_query(query=f\"\"\"\n",
        "                                SELECT id FROM public.videos\n",
        "                                WHERE name=%s;\n",
        "                                 \"\"\", param=(input_video_name,))\n",
        "if len(query_video_id):\n",
        "  video_id = query_video_id[0][0]\n",
        "else:\n",
        "  # Get preview\n",
        "  cap = cv2.VideoCapture(INPUT_VIDEO)\n",
        "  cap.set(cv2.CAP_PROP_POS_FRAMES, 0)\n",
        "  res, frame = cap.read()\n",
        "  suuid = str(uuid.uuid4())\n",
        "  filename_preview = f\"{TEMP_DIR}/{str(uuid.uuid4())}.jpg\"\n",
        "  cv2.imwrite(filename_preview, frame)\n",
        "  \n",
        "  # Add to dp and s3\n",
        "  add_file_to_s3(filename_preview, f'{input_video_name}/{suuid}.jpg')\n",
        "  video_id = pg_one_select_query(query=f\"\"\"\n",
        "                                INSERT INTO videos(name, preview_path) \n",
        "                                VALUES (%s)\n",
        "                                RETURNING id;\n",
        "                                \"\"\", param=(input_video_name, f'{input_video_name}/{suuid}.jpg'))\n",
        "  # Remove tmp file\n",
        "  os.remove(filename_preview)"
      ]
    },
    {
      "cell_type": "markdown",
      "metadata": {
        "id": "K12Pvpx0FkXl"
      },
      "source": [
        "### Main processing"
      ]
    },
    {
      "cell_type": "code",
      "execution_count": null,
      "metadata": {
        "id": "9xrNJP64LpDu"
      },
      "outputs": [],
      "source": [
        "markup = pd.read_csv(MARKUP_FILE)\n",
        "video_markup = markup[~(markup.event.isin(['start', 'end']))]\n",
        "video_markup = video_markup[video_markup.video_id == input_video_name]\n",
        "video_markup = video_markup[video_markup.time < 900]"
      ]
    },
    {
      "cell_type": "code",
      "execution_count": null,
      "metadata": {
        "colab": {
          "base_uri": "https://localhost:8080/",
          "height": 424
        },
        "id": "c7Dxv-2MLvaX",
        "outputId": "d572f98f-dfda-4b7f-982b-d6c8a3e0ef5f"
      },
      "outputs": [],
      "source": [
        "video_markup"
      ]
    },
    {
      "cell_type": "code",
      "execution_count": null,
      "metadata": {
        "colab": {
          "base_uri": "https://localhost:8080/",
          "height": 415
        },
        "id": "xg04LbC2QJD8",
        "outputId": "0999520a-bc7b-458f-a9a5-6cc87e29d7df"
      },
      "outputs": [],
      "source": [
        "for index, row in tqdm(video_markup.iterrows()):\n",
        "  timestamp = row[\"time\"]\n",
        "  action = row[\"event\"]\n",
        "  # Calc time for subclip\n",
        "  start_t = max(timestamp - TIME_WINDOW, 0)\n",
        "  # TODO: Find video time duration \n",
        "  end_t = timestamp + TIME_WINDOW\n",
        "\n",
        "  suuid = str(uuid.uuid4())\n",
        "  filename_mp4 = f\"{OUTPUT_DIR}/{suuid}.mp4\"\n",
        "  filename_h264 = f\"{OUTPUT_DIR}/{suuid}.h264\"\n",
        "\n",
        "  # Extract subclip\n",
        "  cut_command = f\"ffmpeg -ss {start_t} -i {TMP_VIDEO} -t {2*TIME_WINDOW} -async 1 {filename_mp4}\"\n",
        "  process = subprocess.run(cut_command.split(), stdout=subprocess.PIPE)\n",
        "\n",
        "  # # Extract subclip\n",
        "  # cut_command = f\"ffmpeg -i {filename_mp4} -an -vcodec libx264 -crf 23 {filename_h264}\"\n",
        "  # process = subprocess.run(cut_command.split(), stdout=subprocess.PIPE)\n",
        "\n",
        "  add_file_to_s3(filename_mp4, f'{input_video_name}/{suuid}.mp4')\n",
        "  add_clip_to_db(video_id, action, timestamp, f'{input_video_name}/{suuid}.mp4')\n",
        "\n",
        "  os.remove(filename_mp4)\n",
        "  # os.remove(filename_h264)"
      ]
    },
    {
      "cell_type": "code",
      "execution_count": null,
      "metadata": {
        "id": "aMJSIGUsZ1Go"
      },
      "outputs": [],
      "source": [
        "!rm -rf /content/clip_video/*"
      ]
    },
    {
      "cell_type": "code",
      "execution_count": null,
      "metadata": {
        "id": "cuzw_6RRmusJ"
      },
      "outputs": [],
      "source": [
        "add_file_to_s3(\"/content/ad6b7876-caed-41cc-bcd4-d970fa0de02f.jpg\", f\"{input_video_name}/ad6b7876-caed-41cc-bcd4-d970fa0de02f.jpg\")"
      ]
    },
    {
      "cell_type": "code",
      "execution_count": null,
      "metadata": {
        "id": "ivco_RBBoQCC"
      },
      "outputs": [],
      "source": []
    }
  ],
  "metadata": {
    "accelerator": "GPU",
    "colab": {
      "collapsed_sections": [],
      "provenance": []
    },
    "kernelspec": {
      "display_name": "Python 3.10.6 64-bit",
      "language": "python",
      "name": "python3"
    },
    "language_info": {
      "name": "python",
      "version": "3.10.6"
    },
    "vscode": {
      "interpreter": {
        "hash": "e7370f93d1d0cde622a1f8e1c04877d8463912d04d973331ad4851f04de6915a"
      }
    }
  },
  "nbformat": 4,
  "nbformat_minor": 0
}
