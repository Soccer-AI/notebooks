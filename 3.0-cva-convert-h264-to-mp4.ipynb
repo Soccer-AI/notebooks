{
  "cells": [
    {
      "cell_type": "code",
      "execution_count": null,
      "metadata": {
        "colab": {
          "base_uri": "https://localhost:8080/"
        },
        "id": "GaoSNJMrRDEO",
        "outputId": "df390c5d-ad18-416a-f6f8-1f097c9ea2e0"
      },
      "outputs": [
        {
          "name": "stdout",
          "output_type": "stream",
          "text": [
            "Looking in indexes: https://pypi.org/simple, https://us-python.pkg.dev/colab-wheels/public/simple/\n",
            "Requirement already satisfied: imageio_ffmpeg in /usr/local/lib/python3.7/dist-packages (0.4.7)\n",
            "Looking in indexes: https://pypi.org/simple, https://us-python.pkg.dev/colab-wheels/public/simple/\n",
            "Collecting minio\n",
            "  Downloading minio-7.1.11-py3-none-any.whl (76 kB)\n",
            "\u001b[K     |████████████████████████████████| 76 kB 3.6 MB/s \n",
            "\u001b[?25hRequirement already satisfied: urllib3 in /usr/local/lib/python3.7/dist-packages (from minio) (1.24.3)\n",
            "Requirement already satisfied: certifi in /usr/local/lib/python3.7/dist-packages (from minio) (2022.6.15)\n",
            "Installing collected packages: minio\n",
            "Successfully installed minio-7.1.11\n"
          ]
        }
      ],
      "source": [
        "!pip install imageio_ffmpeg\n",
        "!pip install minio"
      ]
    },
    {
      "cell_type": "code",
      "execution_count": null,
      "metadata": {
        "id": "BXzRbjbKPulM"
      },
      "outputs": [],
      "source": [
        "import os\n",
        "import uuid\n",
        "import time\n",
        "import pandas as pd\n",
        "from tqdm import tqdm\n",
        "\n",
        "import subprocess\n",
        "from moviepy.video.io.ffmpeg_tools import ffmpeg_extract_subclip\n",
        "\n",
        "from minio import Minio\n",
        "from minio.error import S3Error\n",
        "\n",
        "import psycopg2\n",
        "from psycopg2 import OperationalError\n"
      ]
    },
    {
      "cell_type": "code",
      "execution_count": null,
      "metadata": {
        "id": "jnQ5lhuwQGpb"
      },
      "outputs": [],
      "source": [
        "MINIO_ENDPOINT_URL = \n",
        "MINIO_ACCESS_KEY =\n",
        "MINIO_SECRET_KEY = \n",
        "MINIO_BUCKET =\n",
        "\n",
        "client = Minio(\n",
        "        MINIO_ENDPOINT_URL,\n",
        "        access_key=MINIO_ACCESS_KEY,\n",
        "        secret_key=MINIO_SECRET_KEY,\n",
        "        secure=False\n",
        ")\n",
        "\n",
        "def add_file_to_s3(input_path, object_name):\n",
        "    found = client.bucket_exists(MINIO_BUCKET)\n",
        "    assert found == True\n",
        "    client.fput_object(MINIO_BUCKET, object_name, input_path)\n",
        "\n",
        "def get_file_from_s3(object_name, file_path):\n",
        "    found = client.bucket_exists(MINIO_BUCKET)\n",
        "    assert found == True\n",
        "    client.fget_object(MINIO_BUCKET, object_name, file_path)"
      ]
    },
    {
      "cell_type": "code",
      "execution_count": null,
      "metadata": {
        "id": "FiFpHS5WRTPJ"
      },
      "outputs": [],
      "source": [
        "POSTGRES_USER=\n",
        "POSTGRES_PASSWORD=\n",
        "POSTGRES_DB=\n",
        "POSTGRES_HOST=\n",
        "POSTGRES_PORT=\n",
        "\n",
        "def pg_create_connection(db_name, db_user, db_password, db_host, db_port):\n",
        "    connection = None\n",
        "    try:\n",
        "        connection = psycopg2.connect(database=db_name,\n",
        "                                      user=db_user,\n",
        "                                      password=db_password,\n",
        "                                      host=db_host,\n",
        "                                      port=db_port,)\n",
        "        connection.autocommit = True\n",
        "    except OperationalError as ex:\n",
        "        print(f\"The ERROR {ex} occurred\")\n",
        "    return connection\n",
        "\n",
        "connection = pg_create_connection(POSTGRES_DB, \n",
        "                                  POSTGRES_USER, \n",
        "                                  POSTGRES_PASSWORD, \n",
        "                                  POSTGRES_HOST,\n",
        "                                  POSTGRES_PORT)\n",
        "\n",
        "def pg_insert_query(query, param=()):\n",
        "    with connection.cursor() as cursor:\n",
        "        try:\n",
        "            cursor.execute(query, param)\n",
        "        except OperationalError as ex:\n",
        "            print(f\"The ERROR {ex} occurred\")\n",
        "\n",
        "def pg_one_select_query(query, param=()):\n",
        "    with connection.cursor() as cursor:\n",
        "        try:\n",
        "            cursor.execute(query, param)\n",
        "            hander = cursor.fetchone()[0]\n",
        "            return hander\n",
        "        except OperationalError as ex:\n",
        "            print(f\"The ERROR {ex} occurred\")\n",
        "\n",
        "def pg_many_select_query(query, param=()):\n",
        "    with connection.cursor() as cursor:\n",
        "        try:\n",
        "            cursor.execute(query, param)\n",
        "            return cursor.fetchall()\n",
        "        except OperationalError as ex:\n",
        "          print(f\"The ERROR {ex} occurred\")\n",
        "\n",
        "def add_clip_to_db(video_id, action_type, stime, clip_path):\n",
        "  action_id = pg_one_select_query(query=f\"\"\"\n",
        "                                  SELECT id FROM public.action_types\n",
        "                                  WHERE name=%s;\n",
        "                                  \"\"\", param=(action_type,))\n",
        "  query = f\"\"\"\n",
        "      INSERT INTO events(id_video, id_action, time, clip_path)\n",
        "      VALUES (%s, %s, %s, %s)\n",
        "      RETURNING id;\n",
        "  \"\"\"\n",
        "  pg_insert_query(query=query,\n",
        "                  param=(video_id, action_id, stime, clip_path))"
      ]
    },
    {
      "cell_type": "code",
      "execution_count": null,
      "metadata": {
        "id": "W8fqJqSNT8eh"
      },
      "outputs": [],
      "source": [
        "TEMP_DIR = \"/content/tmp_folder\"\n",
        "\n",
        "if not os.path.exists(TEMP_DIR):\n",
        "    os.makedirs(TEMP_DIR)"
      ]
    },
    {
      "cell_type": "code",
      "execution_count": null,
      "metadata": {
        "id": "aI3KbpnVUjAJ"
      },
      "outputs": [],
      "source": [
        "clips_paths = pg_many_select_query(query=f\"SELECT id, clip_path FROM public.events;\")"
      ]
    },
    {
      "cell_type": "code",
      "execution_count": null,
      "metadata": {
        "colab": {
          "base_uri": "https://localhost:8080/"
        },
        "id": "9OEUVHPIU018",
        "outputId": "6829ddba-e3f8-4e2e-efda-40710f537e1c"
      },
      "outputs": [
        {
          "data": {
            "text/plain": [
              "[(4, '1606b0e6_0/743b8ab1-9219-4b7c-bdec-075156faa98d.h264'),\n",
              " (5, '1606b0e6_0/6557ad2d-8cb2-4b4b-af87-57b5f90fe2c2.h264'),\n",
              " (6, '1606b0e6_0/8b391b04-a53f-4e56-afeb-30adc67f5c8f.h264'),\n",
              " (7, '1606b0e6_0/b7cd26d8-5eee-4244-a9aa-904c71c5f4db.h264'),\n",
              " (8, '1606b0e6_0/200c6a6d-c678-46d5-88c6-5e5a028a21b2.h264'),\n",
              " (9, '1606b0e6_0/a7ee4153-4ede-491b-9dcc-b64514d03070.h264'),\n",
              " (10, '1606b0e6_0/9ca7e7bf-b1c9-4f4a-bce3-2102c65b3da2.h264'),\n",
              " (11, '1606b0e6_0/24ac8ce9-39d8-4984-9f8d-9e207d04debe.h264'),\n",
              " (12, '1606b0e6_0/450c3a32-a039-4817-bd97-53b09d5cc872.h264'),\n",
              " (13, '1606b0e6_0/370f9471-08ef-4ef3-b4c1-f90d529b23ab.h264'),\n",
              " (14, '1606b0e6_0/2cdfa4f4-0d13-48a6-8b15-bd5cd351edfc.h264'),\n",
              " (15, '1606b0e6_0/c300a2a3-b52a-4a85-8508-7981aa17a149.h264'),\n",
              " (16, '1606b0e6_0/1db86610-483e-4d7b-a86f-2139cb70596d.h264'),\n",
              " (17, '1606b0e6_0/9be21d39-7afd-4380-8e9e-fd67f41fd299.h264'),\n",
              " (18, '1606b0e6_0/4b124c3f-47b6-4138-9726-d0607e45a880.h264'),\n",
              " (19, '1606b0e6_0/1e6118f5-e3d8-47eb-ad9f-8658a8bf94d2.h264'),\n",
              " (20, '1606b0e6_0/c3299a8c-bba0-45d3-9bbb-69913ce3a39c.h264'),\n",
              " (21, '1606b0e6_0/65609c0f-7441-4a10-92ec-126b2653d9fd.h264'),\n",
              " (22, '1606b0e6_0/6fc9478b-78ee-45dc-b9a6-37b02a4ea729.h264'),\n",
              " (23, '1606b0e6_0/ae177170-f105-43ab-8a1d-9629e4d9fb6a.h264'),\n",
              " (24, '1606b0e6_0/bcac11fc-be29-44e1-9723-438450146a11.h264'),\n",
              " (25, '1606b0e6_0/46ea8303-166d-4722-8215-90f685236abe.h264'),\n",
              " (26, '1606b0e6_0/59ed6d3c-9a4b-4878-8a4a-b8d3151e0326.h264'),\n",
              " (27, '1606b0e6_0/91ee3e3f-8f8f-4486-ad7e-8a24153a60b4.h264'),\n",
              " (28, '1606b0e6_0/563fec7c-6cd5-42df-a505-c0ddd31b65a1.h264'),\n",
              " (29, '1606b0e6_0/7bfac0f0-0525-492c-95a4-acb5b4e5af52.h264'),\n",
              " (30, '1606b0e6_0/352faa7c-33c6-4243-8d91-9961aa9aeaa6.h264'),\n",
              " (31, '1606b0e6_0/84ed3385-9a0d-4f02-aaf4-edf86ac64c0a.h264'),\n",
              " (32, '1606b0e6_0/149f5cb2-f81d-4ed9-af76-18de87155e23.h264'),\n",
              " (33, '1606b0e6_0/4cfb10db-ee94-48c6-aae4-fcab0303a586.h264'),\n",
              " (34, '1606b0e6_0/7fef5487-e117-418d-9028-69d27353ca68.h264'),\n",
              " (35, '1606b0e6_0/7bb8294f-0879-4bb5-8e02-2d594672dc42.h264'),\n",
              " (36, '1606b0e6_0/0e805932-6910-46bb-b6e4-bd5b38f57c73.h264'),\n",
              " (37, '1606b0e6_0/ffcf5839-c629-46cc-bacf-d9fb9bd3a14f.h264'),\n",
              " (38, '1606b0e6_0/6b77f2dd-1503-4bb7-9c9a-943259634e80.h264'),\n",
              " (39, '1606b0e6_0/e8f949f0-53ac-419f-ad3a-c97a4f609a4a.h264'),\n",
              " (40, '1606b0e6_0/502d7c7b-4fd0-49b6-8769-07436c9c9d1f.h264'),\n",
              " (41, '1606b0e6_0/53953f52-bf6b-43a5-8550-75b1089565c0.h264'),\n",
              " (42, '1606b0e6_0/d20b01de-aff1-42be-886a-2a47db74e05c.h264'),\n",
              " (43, '1606b0e6_0/8be7886b-43e2-4f59-8325-993252a9f979.h264'),\n",
              " (44, '1606b0e6_0/b494ae46-68a8-49b6-9f6a-7241f374bbd1.h264'),\n",
              " (45, '1606b0e6_0/84caf85f-bfc8-490f-b3af-f9f9fc0d820a.h264'),\n",
              " (46, '1606b0e6_0/23eccc77-35c6-4039-90a5-f38db88396a6.h264'),\n",
              " (47, '1606b0e6_0/e36c1ab7-94b7-4162-b497-64d126c1a890.h264'),\n",
              " (48, '1606b0e6_0/d6e69e91-52e8-4b41-a5df-62773b8d6427.h264'),\n",
              " (49, '1606b0e6_0/8b7b3ab7-a46e-4b42-888b-ce601a8d3329.h264'),\n",
              " (50, '1606b0e6_0/76f51ead-813c-4f8e-bfed-c650860ad2e5.h264'),\n",
              " (51, '1606b0e6_0/dc902a8e-3b9f-4283-bf29-beb4df30e802.h264'),\n",
              " (52, '1606b0e6_0/342fba3c-d181-4ed2-a33b-e51161cfaab7.h264'),\n",
              " (53, '1606b0e6_0/f9717470-1f98-441a-bb9f-e846caa496fb.h264'),\n",
              " (54, '1606b0e6_0/4c811869-b141-4dba-ae84-9553b3a67754.h264'),\n",
              " (55, '1606b0e6_0/2a7c7adc-eab6-45a1-bcc9-5f615bb06b10.h264'),\n",
              " (56, '1606b0e6_0/921eb053-51a5-4c04-9c5f-16a2a769b146.h264'),\n",
              " (57, '1606b0e6_0/eff95d87-a540-4d88-bc67-dc1e4411fb7e.h264'),\n",
              " (58, '1606b0e6_0/80950a9d-4d13-4812-a95b-4853668fd5d2.h264'),\n",
              " (59, '1606b0e6_0/ef3fdb75-6172-4e09-a369-6de59dd28a3b.h264'),\n",
              " (60, '1606b0e6_0/41a62edc-1dc1-4c4e-8db8-7fd31d4d34e5.h264'),\n",
              " (61, '1606b0e6_0/17c29d9a-fb6e-440e-86b7-770e559c4950.h264'),\n",
              " (62, '1606b0e6_0/309ede47-6254-4e2a-967c-9131b7c465b4.h264'),\n",
              " (63, '1606b0e6_0/38177916-d352-4f63-95f6-bce95e888b6f.h264'),\n",
              " (64, '1606b0e6_0/c9b628ca-09d5-4282-869c-b508f6528c8f.h264'),\n",
              " (65, '1606b0e6_0/cd2d8d30-e7c3-42a1-b31c-a27931e8ae66.h264')]"
            ]
          },
          "execution_count": 33,
          "metadata": {},
          "output_type": "execute_result"
        }
      ],
      "source": [
        "clips_paths"
      ]
    },
    {
      "cell_type": "code",
      "execution_count": null,
      "metadata": {
        "colab": {
          "base_uri": "https://localhost:8080/"
        },
        "id": "_grBWMZYU6IA",
        "outputId": "25ae90a0-c03e-407c-bf0a-bf6685878aa9"
      },
      "outputs": [
        {
          "name": "stderr",
          "output_type": "stream",
          "text": [
            "100%|██████████| 62/62 [01:06<00:00,  1.08s/it]\n"
          ]
        }
      ],
      "source": [
        "for path in tqdm(clips_paths):\n",
        "  id, object_name = path\n",
        "  video_name = object_name.split(\"/\")[0]\n",
        "  input_video_fname = os.path.basename(object_name)\n",
        "  input_video_name = input_video_fname.split('.')[0]\n",
        "\n",
        "  tmp_file_path_h264 = f\"{TEMP_DIR}/{input_video_fname}\"\n",
        "  tmp_file_path_mp4 = f\"{TEMP_DIR}/{input_video_name}.mp4\"\n",
        "  get_file_from_s3(object_name, tmp_file_path_h264)\n",
        "\n",
        "  convert_command =  f\"ffmpeg -i {tmp_file_path_h264} -c:v copy -f mp4 {tmp_file_path_mp4}\"\n",
        "  process = subprocess.run(convert_command.split(), stdout=subprocess.PIPE)\n",
        "\n",
        "  add_file_to_s3(tmp_file_path_mp4, f'{video_name}/{input_video_name}.mp4')\n",
        "\n",
        "  query =   \"\"\"\n",
        "    UPDATE public.events\n",
        "    SET clip_path = %s\n",
        "    WHERE id = %s;\n",
        "  \"\"\"\n",
        "  pg_insert_query(query, param=(f'{video_name}/{input_video_name}.mp4', id)) \n",
        "\n",
        "  os.remove(filename_preview)"
      ]
    }
  ],
  "metadata": {
    "colab": {
      "collapsed_sections": [],
      "provenance": []
    },
    "kernelspec": {
      "display_name": "Python 3.10.6 64-bit",
      "language": "python",
      "name": "python3"
    },
    "language_info": {
      "name": "python",
      "version": "3.10.6"
    },
    "vscode": {
      "interpreter": {
        "hash": "e7370f93d1d0cde622a1f8e1c04877d8463912d04d973331ad4851f04de6915a"
      }
    }
  },
  "nbformat": 4,
  "nbformat_minor": 0
}
