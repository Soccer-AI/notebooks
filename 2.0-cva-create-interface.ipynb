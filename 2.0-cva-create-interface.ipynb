{
  "cells": [
    {
      "cell_type": "markdown",
      "metadata": {
        "id": "dzeLFEARcoYx"
      },
      "source": [
        "## Common part"
      ]
    },
    {
      "cell_type": "code",
      "execution_count": null,
      "metadata": {
        "colab": {
          "base_uri": "https://localhost:8080/"
        },
        "id": "q9VC3jtDdKrn",
        "outputId": "5455196c-1502-4288-947a-3febfe2dde91"
      },
      "outputs": [
        {
          "name": "stdout",
          "output_type": "stream",
          "text": [
            "\u001b[K     |████████████████████████████████| 1.4 MB 12.9 MB/s \n",
            "\u001b[K     |████████████████████████████████| 51 kB 6.6 MB/s \n",
            "\u001b[K     |████████████████████████████████| 45 kB 3.1 MB/s \n",
            "\u001b[K     |████████████████████████████████| 11.2 MB 45.6 MB/s \n",
            "\u001b[K     |████████████████████████████████| 4.0 MB 47.6 MB/s \n",
            "\u001b[K     |████████████████████████████████| 957 kB 34.4 MB/s \n",
            "\u001b[?25h  Building wheel for ligo-segments (setup.py) ... \u001b[?25l\u001b[?25hdone\n"
          ]
        }
      ],
      "source": [
        "!pip install -q gwpy"
      ]
    },
    {
      "cell_type": "code",
      "execution_count": null,
      "metadata": {
        "colab": {
          "base_uri": "https://localhost:8080/"
        },
        "id": "XbFVcQubbWpb",
        "outputId": "28a716f0-ac15-4ca6-c5d6-aec46663be5c"
      },
      "outputs": [
        {
          "name": "stdout",
          "output_type": "stream",
          "text": [
            "Mounted at /content/drive\n"
          ]
        }
      ],
      "source": [
        "# == Mount google colab folder\n",
        "from google.colab import drive\n",
        "drive.mount('/content/drive')"
      ]
    },
    {
      "cell_type": "code",
      "execution_count": null,
      "metadata": {
        "id": "vetUpX3O99dJ"
      },
      "outputs": [],
      "source": [
        "import os\n",
        "\n",
        "INPUT_VIDEO = \"/content/drive/MyDrive/kaggle/datasets/dfl-bundesliga-data-shootout/clips/08fd33_0.mp4\"\n",
        "# INPUT_VIDEO = \"/content/drive/MyDrive/kaggle/datasets/dfl-bundesliga-data-shootout/train/1606b0e6_0.mp4\"\n",
        "# INPUT_VIDEO = \"/content/drive/MyDrive/1606b0e6_0.mp4\"\n",
        "CONFIG_FILE = \"/content/drive/MyDrive/kaggle/config.yaml\"\n",
        "TEMP_DIR = \"/content/tmp_video\"\n",
        "OUTPUT_DIR = \"/content/clip_video\"\n",
        "input_video_fn = os.path.basename(INPUT_VIDEO)\n",
        "input_video_name = input_video_fn.split('.')[0]\n",
        "\n",
        "if not os.path.exists(TEMP_DIR):\n",
        "    os.makedirs(TEMP_DIR)\n",
        "if not os.path.exists(OUTPUT_DIR):\n",
        "    os.makedirs(OUTPUT_DIR)"
      ]
    },
    {
      "cell_type": "markdown",
      "metadata": {
        "id": "OfJZm9erczAl"
      },
      "source": [
        "## Use bytetrack for given video"
      ]
    },
    {
      "cell_type": "code",
      "execution_count": null,
      "metadata": {
        "id": "QCVvFCX6z03x"
      },
      "outputs": [],
      "source": [
        "%%capture\n",
        "# == Download the repo content and install dependencies ==\n",
        "!git clone https://github.com/ifzhang/ByteTrack.git\n",
        "%cd /content/ByteTrack/\n",
        "%mkdir pretrained\n",
        "%cd pretrained\n",
        "\n",
        "# == Download pretrained X model weights ==\n",
        "!gdown --id \"1P4mY0Yyd3PPTybgZkjMYhFri88nTmJX5\"\n",
        "!gdown --id \"11Zb0NN_Uu7JwUd9e6Nk8o2_EUfxWqsun\"\n",
        "!gdown --id \"1uSmhXzyV1Zvb4TJJCzpsZOIcw7CCJLxj\""
      ]
    },
    {
      "cell_type": "code",
      "execution_count": null,
      "metadata": {
        "id": "46hQmpmo0Wby"
      },
      "outputs": [],
      "source": [
        "%%capture\n",
        "# == Install dependencies ==\n",
        "!pip3 install cython\n",
        "!pip3 install 'git+https://github.com/cocodataset/cocoapi.git#subdirectory=PythonAPI'\n",
        "!pip3 install cython_bbox\n",
        "\n",
        "%cd /content/ByteTrack/\n",
        "!pip3 install -r requirements.txt"
      ]
    },
    {
      "cell_type": "code",
      "execution_count": null,
      "metadata": {
        "id": "kcuzq_MJ1EmK"
      },
      "outputs": [],
      "source": [
        "%%capture\n",
        "# == Install ByteTrack ==\n",
        "!python3 setup.py develop"
      ]
    },
    {
      "cell_type": "markdown",
      "metadata": {
        "id": "eHYZaRNJYy8p"
      },
      "source": [
        "### Video pipeline"
      ]
    },
    {
      "cell_type": "code",
      "execution_count": null,
      "metadata": {
        "colab": {
          "base_uri": "https://localhost:8080/"
        },
        "id": "7WRW5qw-c7wR",
        "outputId": "7f3d01e1-1c5c-492e-a623-080199722221"
      },
      "outputs": [
        {
          "name": "stdout",
          "output_type": "stream",
          "text": [
            "Looking in indexes: https://pypi.org/simple, https://us-python.pkg.dev/colab-wheels/public/simple/\n",
            "Requirement already satisfied: loguru in /usr/local/lib/python3.7/dist-packages (0.6.0)\n",
            "Looking in indexes: https://pypi.org/simple, https://us-python.pkg.dev/colab-wheels/public/simple/\n",
            "Collecting dotmap\n",
            "  Downloading dotmap-1.3.30-py3-none-any.whl (11 kB)\n",
            "Installing collected packages: dotmap\n",
            "Successfully installed dotmap-1.3.30\n"
          ]
        }
      ],
      "source": [
        "!pip install loguru\n",
        "!pip install dotmap"
      ]
    },
    {
      "cell_type": "code",
      "execution_count": null,
      "metadata": {
        "id": "OTmx5WXXZH5s"
      },
      "outputs": [],
      "source": [
        "import sys\n",
        "import yaml\n",
        "import time\n",
        "import os.path as osp\n",
        "from dotmap import DotMap\n",
        "\n",
        "import cv2\n",
        "import numpy as np\n",
        "import torch\n",
        "import torchvision\n",
        "\n",
        "from loguru import logger"
      ]
    },
    {
      "cell_type": "code",
      "execution_count": null,
      "metadata": {
        "id": "DEU_FTPtONco"
      },
      "outputs": [],
      "source": [
        "# Read config file\n",
        "config = None\n",
        "with open(CONFIG_FILE, \"r\") as stream:\n",
        "    config = yaml.safe_load(stream)\n",
        "    config = DotMap(config)"
      ]
    },
    {
      "cell_type": "code",
      "execution_count": null,
      "metadata": {
        "id": "cbdeYVtRQyQ7"
      },
      "outputs": [],
      "source": [
        "# Create save folder\n",
        "current_time = time.localtime()\n",
        "timestamp = time.strftime(\"%Y_%m_%d_%H_%M_%S\", current_time)\n",
        "save_folder = osp.join(TEMP_DIR, timestamp)\n",
        "save_path = osp.join(save_folder, input_video_fn)"
      ]
    },
    {
      "cell_type": "code",
      "execution_count": null,
      "metadata": {
        "id": "-4cXOsczY2Jr"
      },
      "outputs": [],
      "source": [
        "# Read input video\n",
        "cap = cv2.VideoCapture(INPUT_VIDEO)\n",
        "\n",
        "# Get main video characteristic\n",
        "width = cap.get(cv2.CAP_PROP_FRAME_WIDTH)  # float\n",
        "height = cap.get(cv2.CAP_PROP_FRAME_HEIGHT)  # float\n",
        "fps = cap.get(cv2.CAP_PROP_FPS) # float\n",
        "\n",
        "vid_writer = cv2.VideoWriter(\n",
        "    save_path, cv2.VideoWriter_fourcc(*\"mp4v\"), fps, (int(width), int(height))\n",
        ")"
      ]
    },
    {
      "cell_type": "code",
      "execution_count": null,
      "metadata": {
        "colab": {
          "base_uri": "https://localhost:8080/",
          "height": 35
        },
        "id": "8EyXh5iCxEM3",
        "outputId": "e464efa4-62a1-4277-c706-fad5238c066e"
      },
      "outputs": [
        {
          "data": {
            "application/vnd.google.colaboratory.intrinsic+json": {
              "type": "string"
            },
            "text/plain": [
              "'/content/tmp_video/2022_09_09_00_54_55/08fd33_0.mp4'"
            ]
          },
          "execution_count": 107,
          "metadata": {},
          "output_type": "execute_result"
        }
      ],
      "source": [
        "save_path"
      ]
    },
    {
      "cell_type": "markdown",
      "metadata": {
        "id": "YgH1ZAxXcz_C"
      },
      "source": [
        "### Object detection model"
      ]
    },
    {
      "cell_type": "code",
      "execution_count": null,
      "metadata": {
        "id": "QRIthbSTbsiz"
      },
      "outputs": [],
      "source": [
        "# Add path to model to syspath\n",
        "PATH_TO_MODEL = \"/content/ByteTrack/exps/example/mot\"\n",
        "PATH_TO_CHECKPOINT = \"/content/ByteTrack/pretrained/bytetrack_m_mot17.pth.tar\"\n",
        "\n",
        "sys.path.append(PATH_TO_MODEL)"
      ]
    },
    {
      "cell_type": "code",
      "execution_count": null,
      "metadata": {
        "id": "c-MClu4DeYxW"
      },
      "outputs": [],
      "source": [
        "from yolox_m_mix_det import Exp\n",
        "\n",
        "exp = Exp()\n",
        "\n",
        "if config.conf is not None:\n",
        "    exp.test_conf = config.conf\n",
        "if config.nms is not None:\n",
        "    exp.nmsthre = config.nms\n",
        "if config.tsize is not None:\n",
        "    exp.test_size = (config.tsize, config.tsize)"
      ]
    },
    {
      "cell_type": "code",
      "execution_count": null,
      "metadata": {
        "id": "XVBoMtgBlKqM"
      },
      "outputs": [],
      "source": [
        "def preprocess(image, input_size, mean, std, swap=(2, 0, 1)):\n",
        "  if len(image.shape) == 3:\n",
        "      padded_img = np.ones((input_size[0], input_size[1], 3)) * 114.0\n",
        "  else:\n",
        "      padded_img = np.ones(input_size) * 114.0\n",
        "  img = np.array(image)\n",
        "  r = min(input_size[0] / img.shape[0], input_size[1] / img.shape[1])\n",
        "  resized_img = cv2.resize(\n",
        "      img,\n",
        "      (int(img.shape[1] * r), int(img.shape[0] * r)),\n",
        "      interpolation=cv2.INTER_LINEAR,\n",
        "  ).astype(np.float32)\n",
        "  padded_img[: int(img.shape[0] * r), : int(img.shape[1] * r)] = resized_img\n",
        "\n",
        "  padded_img = padded_img[:, :, ::-1]\n",
        "  padded_img /= 255.0\n",
        "  if mean is not None:\n",
        "      padded_img -= mean\n",
        "  if std is not None:\n",
        "      padded_img /= std\n",
        "  padded_img = padded_img.transpose(swap)\n",
        "  padded_img = np.ascontiguousarray(padded_img, dtype=np.float32)\n",
        "  return padded_img, r\n",
        "\n",
        "def postprocess(prediction, num_classes, conf_thre=0.7, nms_thre=0.45):\n",
        "  box_corner = prediction.new(prediction.shape)\n",
        "  box_corner[:, :, 0] = prediction[:, :, 0] - prediction[:, :, 2] / 2\n",
        "  box_corner[:, :, 1] = prediction[:, :, 1] - prediction[:, :, 3] / 2\n",
        "  box_corner[:, :, 2] = prediction[:, :, 0] + prediction[:, :, 2] / 2\n",
        "  box_corner[:, :, 3] = prediction[:, :, 1] + prediction[:, :, 3] / 2\n",
        "  prediction[:, :, :4] = box_corner[:, :, :4]\n",
        "\n",
        "  output = [None for _ in range(len(prediction))]\n",
        "  for i, image_pred in enumerate(prediction):\n",
        "\n",
        "      # If none are remaining => process next image\n",
        "      if not image_pred.size(0):\n",
        "          continue\n",
        "      # Get score and class with highest confidence\n",
        "      class_conf, class_pred = torch.max(\n",
        "          image_pred[:, 5 : 5 + num_classes], 1, keepdim=True\n",
        "      )\n",
        "\n",
        "      conf_mask = (image_pred[:, 4] * class_conf.squeeze() >= conf_thre).squeeze()\n",
        "      # _, conf_mask = torch.topk((image_pred[:, 4] * class_conf.squeeze()), 1000)\n",
        "      # Detections ordered as (x1, y1, x2, y2, obj_conf, class_conf, class_pred)\n",
        "      detections = torch.cat((image_pred[:, :5], class_conf, class_pred.float()), 1)\n",
        "      detections = detections[conf_mask]\n",
        "      if not detections.size(0):\n",
        "          continue\n",
        "\n",
        "      nms_out_index = torchvision.ops.batched_nms(\n",
        "          detections[:, :4],\n",
        "          detections[:, 4] * detections[:, 5],\n",
        "          detections[:, 6],\n",
        "          nms_thre,\n",
        "      )\n",
        "      detections = detections[nms_out_index]\n",
        "      if output[i] is None:\n",
        "          output[i] = detections\n",
        "      else:\n",
        "          output[i] = torch.cat((output[i], detections))\n",
        "  return output\n"
      ]
    },
    {
      "cell_type": "code",
      "execution_count": null,
      "metadata": {
        "id": "JzlGMn4wS8i2"
      },
      "outputs": [],
      "source": [
        "class ObjectDetection(object):\n",
        "    def __init__(self, exp, weight_file, device):\n",
        "        self.model = exp.get_model().to(device)\n",
        "        self.num_classes = exp.num_classes\n",
        "        self.confthre = exp.test_conf\n",
        "        self.nmsthre = exp.nmsthre\n",
        "        self.test_size = exp.test_size\n",
        "        self.device = device\n",
        "        \n",
        "        self.rgb_means = (0.485, 0.456, 0.406)\n",
        "        self.std = (0.229, 0.224, 0.225)\n",
        "\n",
        "        self.model.eval()\n",
        "        checkpoint = torch.load(weight_file, map_location=\"cpu\")\n",
        "        self.model.load_state_dict(checkpoint[\"model\"])  \n",
        "\n",
        "    def inference(self, img, timer):\n",
        "        img_info = {}\n",
        "\n",
        "        height, width = img.shape[:2]\n",
        "        img_info[\"height\"] = height\n",
        "        img_info[\"width\"] = width\n",
        "        img_info[\"raw_img\"] = img\n",
        "\n",
        "        img, ratio = preprocess(img, self.test_size, self.rgb_means, self.std)\n",
        "\n",
        "        img_info[\"ratio\"] = ratio\n",
        "        img = torch.from_numpy(img).unsqueeze(0).float().to(self.device)\n",
        "        with torch.no_grad():\n",
        "            timer.tic()\n",
        "            outputs = self.model(img)\n",
        "        \n",
        "        outputs = postprocess(outputs, self.num_classes, self.confthre, self.nmsthre)\n",
        "        \n",
        "        #logger.info(\"Infer time: {:.4f}s\".format(time.time() - t0))\n",
        "        return outputs, img_info"
      ]
    },
    {
      "cell_type": "code",
      "execution_count": null,
      "metadata": {
        "id": "yzyHU7ttp0If"
      },
      "outputs": [],
      "source": [
        "predictor = ObjectDetection(exp, PATH_TO_CHECKPOINT, config.device)"
      ]
    },
    {
      "cell_type": "markdown",
      "metadata": {
        "id": "DYYplz29c5nV"
      },
      "source": [
        "### Tracking model"
      ]
    },
    {
      "cell_type": "code",
      "execution_count": null,
      "metadata": {
        "id": "Yf-SzuHar29U"
      },
      "outputs": [],
      "source": [
        "class ObjectTracking(object):\n",
        "  def __init__(self, tracker, config):\n",
        "    self.results = []\n",
        "    self.tracker = tracker\n",
        "    self.config = config\n",
        "\n",
        "  def update(self, frime_id,output_results, img_info, img_size):\n",
        "    online_targets = self.tracker.update(output_results, img_info, img_size)\n",
        "    online_tlwhs = []\n",
        "    online_ids = []\n",
        "    online_scores = []\n",
        "    for t in online_targets:\n",
        "        tlwh = t.tlwh\n",
        "        tid = t.track_id\n",
        "        vertical = tlwh[2] / tlwh[3] > self.config.aspect_ratio_thresh\n",
        "        if tlwh[2] * tlwh[3] > self.config.min_box_area and not vertical:\n",
        "            online_tlwhs.append(tlwh)\n",
        "            online_ids.append(tid)\n",
        "            online_scores.append(t.score)\n",
        "            self.results.append(\n",
        "                f\"{frame_id},{tid},{tlwh[0]:.2f},{tlwh[1]:.2f},{tlwh[2]:.2f},{tlwh[3]:.2f},{t.score:.2f},-1,-1,-1\\n\"\n",
        "            )\n",
        "    return online_tlwhs, online_ids, online_scores\n"
      ]
    },
    {
      "cell_type": "code",
      "execution_count": null,
      "metadata": {
        "id": "_tRu4d05eghi"
      },
      "outputs": [],
      "source": [
        "from yolox.tracker.byte_tracker import BYTETracker\n",
        "\n",
        "tracker = ObjectTracking(BYTETracker(config, frame_rate=fps), config)"
      ]
    },
    {
      "cell_type": "markdown",
      "metadata": {
        "id": "ysdO_SBVnkOB"
      },
      "source": [
        "### Video processing"
      ]
    },
    {
      "cell_type": "code",
      "execution_count": null,
      "metadata": {
        "id": "K6ShnwKju7Dg"
      },
      "outputs": [],
      "source": [
        "from yolox.tracking_utils.timer import Timer\n",
        "from yolox.utils.visualize import plot_tracking"
      ]
    },
    {
      "cell_type": "code",
      "execution_count": null,
      "metadata": {
        "colab": {
          "base_uri": "https://localhost:8080/"
        },
        "id": "ltuE2zQk1kK_",
        "outputId": "cd348fbd-8cd7-4807-decc-a97a1df68287"
      },
      "outputs": [
        {
          "name": "stderr",
          "output_type": "stream",
          "text": [
            "2022-09-09 00:57:11.396 | INFO     | __main__:<module>:6 - Processing frame 0 (100000.00 fps)\n",
            "2022-09-09 00:57:15.167 | INFO     | __main__:<module>:6 - Processing frame 20 (15.66 fps)\n",
            "2022-09-09 00:57:18.921 | INFO     | __main__:<module>:6 - Processing frame 40 (16.33 fps)\n",
            "2022-09-09 00:57:22.422 | INFO     | __main__:<module>:6 - Processing frame 60 (17.22 fps)\n",
            "2022-09-09 00:57:25.858 | INFO     | __main__:<module>:6 - Processing frame 80 (17.92 fps)\n",
            "2022-09-09 00:57:29.253 | INFO     | __main__:<module>:6 - Processing frame 100 (18.47 fps)\n",
            "2022-09-09 00:57:32.646 | INFO     | __main__:<module>:6 - Processing frame 120 (18.95 fps)\n",
            "2022-09-09 00:57:35.960 | INFO     | __main__:<module>:6 - Processing frame 140 (19.38 fps)\n",
            "2022-09-09 00:57:39.278 | INFO     | __main__:<module>:6 - Processing frame 160 (19.76 fps)\n",
            "2022-09-09 00:57:42.546 | INFO     | __main__:<module>:6 - Processing frame 180 (20.04 fps)\n",
            "2022-09-09 00:57:45.841 | INFO     | __main__:<module>:6 - Processing frame 200 (20.27 fps)\n",
            "2022-09-09 00:57:49.115 | INFO     | __main__:<module>:6 - Processing frame 220 (20.48 fps)\n",
            "2022-09-09 00:57:53.092 | INFO     | __main__:<module>:6 - Processing frame 240 (20.60 fps)\n",
            "2022-09-09 00:57:56.359 | INFO     | __main__:<module>:6 - Processing frame 260 (20.74 fps)\n",
            "2022-09-09 00:57:59.643 | INFO     | __main__:<module>:6 - Processing frame 280 (20.90 fps)\n",
            "2022-09-09 00:58:02.924 | INFO     | __main__:<module>:6 - Processing frame 300 (21.06 fps)\n",
            "2022-09-09 00:58:06.188 | INFO     | __main__:<module>:6 - Processing frame 320 (21.18 fps)\n",
            "2022-09-09 00:58:09.442 | INFO     | __main__:<module>:6 - Processing frame 340 (21.29 fps)\n",
            "2022-09-09 00:58:12.709 | INFO     | __main__:<module>:6 - Processing frame 360 (21.37 fps)\n",
            "2022-09-09 00:58:16.024 | INFO     | __main__:<module>:6 - Processing frame 380 (21.45 fps)\n",
            "2022-09-09 00:58:19.453 | INFO     | __main__:<module>:6 - Processing frame 400 (21.46 fps)\n",
            "2022-09-09 00:58:22.746 | INFO     | __main__:<module>:6 - Processing frame 420 (21.51 fps)\n",
            "2022-09-09 00:58:26.003 | INFO     | __main__:<module>:6 - Processing frame 440 (21.56 fps)\n",
            "2022-09-09 00:58:29.280 | INFO     | __main__:<module>:6 - Processing frame 460 (21.60 fps)\n",
            "2022-09-09 00:58:32.567 | INFO     | __main__:<module>:6 - Processing frame 480 (21.66 fps)\n",
            "2022-09-09 00:58:35.855 | INFO     | __main__:<module>:6 - Processing frame 500 (21.69 fps)\n",
            "2022-09-09 00:58:39.160 | INFO     | __main__:<module>:6 - Processing frame 520 (21.73 fps)\n",
            "2022-09-09 00:58:42.429 | INFO     | __main__:<module>:6 - Processing frame 540 (21.77 fps)\n",
            "2022-09-09 00:58:45.721 | INFO     | __main__:<module>:6 - Processing frame 560 (21.80 fps)\n",
            "2022-09-09 00:58:48.967 | INFO     | __main__:<module>:6 - Processing frame 580 (21.84 fps)\n",
            "2022-09-09 00:58:52.353 | INFO     | __main__:<module>:6 - Processing frame 600 (21.86 fps)\n",
            "2022-09-09 00:58:56.737 | INFO     | __main__:<module>:6 - Processing frame 620 (21.80 fps)\n",
            "2022-09-09 00:59:00.005 | INFO     | __main__:<module>:6 - Processing frame 640 (21.84 fps)\n",
            "2022-09-09 00:59:03.242 | INFO     | __main__:<module>:6 - Processing frame 660 (21.88 fps)\n",
            "2022-09-09 00:59:06.483 | INFO     | __main__:<module>:6 - Processing frame 680 (21.91 fps)\n",
            "2022-09-09 00:59:09.723 | INFO     | __main__:<module>:6 - Processing frame 700 (21.94 fps)\n",
            "2022-09-09 00:59:12.991 | INFO     | __main__:<module>:6 - Processing frame 720 (21.96 fps)\n",
            "2022-09-09 00:59:16.299 | INFO     | __main__:<module>:6 - Processing frame 740 (21.95 fps)\n",
            "2022-09-09 00:59:16.951 | INFO     | __main__:<module>:30 - save results to /content/clip_video/2022_09_09_00_54_55.txt\n"
          ]
        }
      ],
      "source": [
        "timer = Timer()\n",
        "frame_id = 0\n",
        "\n",
        "while True:\n",
        "    if frame_id % 20 == 0:\n",
        "        logger.info('Processing frame {} ({:.2f} fps)'.format(frame_id, 1. / max(1e-5, timer.average_time)))\n",
        "    ret_val, frame = cap.read()\n",
        "    if ret_val:\n",
        "        outputs, img_info = predictor.inference(frame, timer)\n",
        "        if outputs[0] is not None:\n",
        "            online_tlwhs, online_ids, online_scores = tracker.update(outputs[0], [img_info['height'], img_info['width']], exp.test_size)\n",
        "            timer.toc()\n",
        "            online_im = plot_tracking(img_info['raw_img'], online_tlwhs, online_ids, frame_id=frame_id + 1, fps=1. / timer.average_time)\n",
        "        else:\n",
        "            timer.toc()\n",
        "            online_im = img_info['raw_img']\n",
        "        if config.save_result:\n",
        "            vid_writer.write(online_im)\n",
        "    else:\n",
        "        break\n",
        "    frame_id += 1\n",
        "\n",
        "if config.save_result:\n",
        "    res_file = osp.join(OUTPUT_DIR, f\"{timestamp}.txt\")\n",
        "    with open(res_file, 'w') as f:\n",
        "        f.writelines(tracker.results)\n",
        "    logger.info(f\"save results to {res_file}\")"
      ]
    },
    {
      "cell_type": "code",
      "execution_count": null,
      "metadata": {
        "id": "mOgkFvs3Sqog"
      },
      "outputs": [],
      "source": [
        "# == Get rendered result video file path ==\n",
        "import re\n",
        "%cd /content/ByteTrack\n",
        "with open('log.txt', 'r') as file:\n",
        "    text = file.read().replace('\\n', '')\n",
        "\n",
        "m = re.search('video save_path is ./(.+?).mp4', text)\n",
        "if m:\n",
        "    found = '/content/ByteTrack/' + m.group(1) + \".mp4\"\n",
        "found"
      ]
    },
    {
      "cell_type": "code",
      "execution_count": null,
      "metadata": {
        "colab": {
          "base_uri": "https://localhost:8080/",
          "height": 190
        },
        "id": "n6aZY9TtAy0_",
        "outputId": "ffd3246f-fc7b-4167-a89c-3e0c8f5516b2"
      },
      "outputs": [
        {
          "ename": "NameError",
          "evalue": "ignored",
          "output_type": "error",
          "traceback": [
            "\u001b[0;31m---------------------------------------------------------------------------\u001b[0m",
            "\u001b[0;31mNameError\u001b[0m                                 Traceback (most recent call last)",
            "\u001b[0;32m<ipython-input-103-33524a0cf69e>\u001b[0m in \u001b[0;36m<module>\u001b[0;34m\u001b[0m\n\u001b[1;32m      1\u001b[0m \u001b[0;32mimport\u001b[0m \u001b[0mshutil\u001b[0m\u001b[0;34m\u001b[0m\u001b[0;34m\u001b[0m\u001b[0m\n\u001b[0;32m----> 2\u001b[0;31m \u001b[0mshutil\u001b[0m\u001b[0;34m.\u001b[0m\u001b[0mcopy\u001b[0m\u001b[0;34m(\u001b[0m\u001b[0mfound\u001b[0m\u001b[0;34m,\u001b[0m \u001b[0mTEMP_DIR\u001b[0m\u001b[0;34m)\u001b[0m\u001b[0;34m\u001b[0m\u001b[0;34m\u001b[0m\u001b[0m\n\u001b[0m",
            "\u001b[0;31mNameError\u001b[0m: name 'found' is not defined"
          ]
        }
      ],
      "source": [
        "import shutil\n",
        "shutil.copy(found, TEMP_DIR)"
      ]
    },
    {
      "cell_type": "code",
      "execution_count": null,
      "metadata": {
        "id": "KSPTLXVNOEfO"
      },
      "outputs": [],
      "source": [
        "TMP_VIDEO = f\"{TEMP_DIR}/{input_video_fn}\""
      ]
    },
    {
      "cell_type": "code",
      "execution_count": null,
      "metadata": {
        "id": "ryCT5eucwpq0"
      },
      "outputs": [],
      "source": [
        "!cp /content/drive/MyDrive/tracking/1606b0e6_0.mp4 /content/tmp_video/1606b0e6_0.mp4"
      ]
    },
    {
      "cell_type": "markdown",
      "metadata": {
        "id": "a0EQKL5fcVoT"
      },
      "source": [
        "## Cut video by given timestamp "
      ]
    },
    {
      "cell_type": "code",
      "execution_count": null,
      "metadata": {
        "colab": {
          "base_uri": "https://localhost:8080/"
        },
        "id": "6JOxn1IHVcIe",
        "outputId": "820af346-a7f5-4303-c18e-7dddebe7601b"
      },
      "outputs": [
        {
          "name": "stdout",
          "output_type": "stream",
          "text": [
            "Looking in indexes: https://pypi.org/simple, https://us-python.pkg.dev/colab-wheels/public/simple/\n",
            "Collecting imageio_ffmpeg\n",
            "  Downloading imageio_ffmpeg-0.4.7-py3-none-manylinux2010_x86_64.whl (26.9 MB)\n",
            "\u001b[K     |████████████████████████████████| 26.9 MB 1.4 MB/s \n",
            "\u001b[?25hInstalling collected packages: imageio-ffmpeg\n",
            "Successfully installed imageio-ffmpeg-0.4.7\n",
            "Looking in indexes: https://pypi.org/simple, https://us-python.pkg.dev/colab-wheels/public/simple/\n",
            "Requirement already satisfied: minio in /usr/local/lib/python3.7/dist-packages (7.1.11)\n",
            "Requirement already satisfied: certifi in /usr/local/lib/python3.7/dist-packages (from minio) (2022.6.15)\n",
            "Requirement already satisfied: urllib3 in /usr/local/lib/python3.7/dist-packages (from minio) (1.24.3)\n"
          ]
        }
      ],
      "source": [
        "!pip install minio\n",
        "!pip install imageio_ffmpeg"
      ]
    },
    {
      "cell_type": "code",
      "execution_count": null,
      "metadata": {
        "id": "l4z8karELJ2q"
      },
      "outputs": [],
      "source": [
        "import uuid\n",
        "import time\n",
        "import pandas as pd\n",
        "from tqdm import tqdm\n",
        "\n",
        "import subprocess\n",
        "from moviepy.video.io.ffmpeg_tools import ffmpeg_extract_subclip\n",
        "\n",
        "from minio import Minio\n",
        "from minio.error import S3Error\n",
        "\n",
        "import psycopg2\n",
        "from psycopg2 import OperationalError\n"
      ]
    },
    {
      "cell_type": "code",
      "execution_count": null,
      "metadata": {
        "id": "7N0DJrt6LcQ9"
      },
      "outputs": [],
      "source": [
        "MARKUP_FILE = \"/content/drive/MyDrive/kaggle/datasets/dfl-bundesliga-data-shootout/train.csv\"\n",
        "TIME_WINDOW = 5"
      ]
    },
    {
      "cell_type": "markdown",
      "metadata": {
        "id": "38wxHh0QFZ0C"
      },
      "source": [
        "### Minio Setting"
      ]
    },
    {
      "cell_type": "code",
      "execution_count": null,
      "metadata": {
        "id": "XJ7T6rdOFYBl"
      },
      "outputs": [],
      "source": [
        "MINIO_ENDPOINT_URL = \n",
        "MINIO_ACCESS_KEY = \n",
        "MINIO_SECRET_KEY = \n",
        "MINIO_BUCKET = \n",
        "\n",
        "client = Minio(\n",
        "        MINIO_ENDPOINT_URL,\n",
        "        access_key=MINIO_ACCESS_KEY,\n",
        "        secret_key=MINIO_SECRET_KEY,\n",
        "        secure=False\n",
        ")\n",
        "\n",
        "def add_file_to_s3(input_path, object_name):\n",
        "    found = client.bucket_exists(MINIO_BUCKET)\n",
        "    assert found == True\n",
        "    client.fput_object(MINIO_BUCKET, object_name, input_path)\n",
        "\n",
        "def get_file_to_s3(object_name, file_path):\n",
        "    found = client.bucket_exists(MINIO_BUCKET)\n",
        "    assert found == True\n",
        "    client.fget_object(MINIO_BUCKET, object_name, file_path)"
      ]
    },
    {
      "cell_type": "markdown",
      "metadata": {
        "id": "yVrbWGkNFbyg"
      },
      "source": [
        "### Postgres Setting"
      ]
    },
    {
      "cell_type": "code",
      "execution_count": null,
      "metadata": {
        "id": "l54uGo_7Fi_y"
      },
      "outputs": [],
      "source": [
        "POSTGRES_USER=\n",
        "POSTGRES_PASSWORD=\n",
        "POSTGRES_DB=\n",
        "POSTGRES_HOST=\n",
        "POSTGRES_PORT=\n",
        "\n",
        "def pg_create_connection(db_name, db_user, db_password, db_host, db_port):\n",
        "    connection = None\n",
        "    try:\n",
        "        connection = psycopg2.connect(database=db_name,\n",
        "                                      user=db_user,\n",
        "                                      password=db_password,\n",
        "                                      host=db_host,\n",
        "                                      port=db_port,)\n",
        "        connection.autocommit = True\n",
        "    except OperationalError as ex:\n",
        "        print(f\"The ERROR {ex} occurred\")\n",
        "    return connection\n",
        "\n",
        "connection = pg_create_connection(POSTGRES_DB, \n",
        "                                  POSTGRES_USER, \n",
        "                                  POSTGRES_PASSWORD, \n",
        "                                  POSTGRES_HOST,\n",
        "                                  POSTGRES_PORT)\n",
        "\n",
        "def pg_insert_query(query, param=()):\n",
        "    with connection.cursor() as cursor:\n",
        "        try:\n",
        "            cursor.execute(query, param)\n",
        "        except OperationalError as ex:\n",
        "            print(f\"The ERROR {ex} occurred\")\n",
        "\n",
        "def pg_one_select_query(query, param=()):\n",
        "    with connection.cursor() as cursor:\n",
        "        try:\n",
        "            cursor.execute(query, param)\n",
        "            hander = cursor.fetchone()[0]\n",
        "            return hander\n",
        "        except OperationalError as ex:\n",
        "            print(f\"The ERROR {ex} occurred\")\n",
        "\n",
        "def pg_many_select_query(query, param=()):\n",
        "    with connection.cursor() as cursor:\n",
        "        try:\n",
        "            cursor.execute(query, param)\n",
        "            return cursor.fetchall()\n",
        "        except OperationalError as ex:\n",
        "          print(f\"The ERROR {ex} occurred\")\n",
        "\n",
        "def add_clip_to_db(video_id, action_type, stime, clip_path):\n",
        "  action_id = pg_one_select_query(query=f\"\"\"\n",
        "                                  SELECT id FROM public.action_types\n",
        "                                  WHERE name=%s;\n",
        "                                  \"\"\", param=(action_type,))\n",
        "  query = f\"\"\"\n",
        "      INSERT INTO events(id_video, id_action, time, clip_path)\n",
        "      VALUES (%s, %s, %s, %s)\n",
        "      RETURNING id;\n",
        "  \"\"\"\n",
        "  pg_insert_query(query=query,\n",
        "                  param=(video_id, action_id, stime, clip_path))"
      ]
    },
    {
      "cell_type": "markdown",
      "metadata": {
        "id": "OYmzEdDXMg9t"
      },
      "source": [
        "### Get preview from video"
      ]
    },
    {
      "cell_type": "code",
      "execution_count": null,
      "metadata": {
        "id": "2Fd34l5RN22_"
      },
      "outputs": [],
      "source": [
        "import cv2\n",
        "from google.colab.patches import cv2_imshow"
      ]
    },
    {
      "cell_type": "code",
      "execution_count": null,
      "metadata": {
        "id": "bmuIC25VOdW0"
      },
      "outputs": [],
      "source": [
        "query_video_id = pg_many_select_query(query=f\"\"\"\n",
        "                                SELECT id FROM public.videos\n",
        "                                WHERE name=%s;\n",
        "                                 \"\"\", param=(input_video_name,))\n",
        "if len(query_video_id):\n",
        "  video_id = query_video_id[0][0]\n",
        "else:\n",
        "  # Get preview\n",
        "  cap = cv2.VideoCapture(INPUT_VIDEO)\n",
        "  cap.set(cv2.CAP_PROP_POS_FRAMES, 0)\n",
        "  res, frame = cap.read()\n",
        "  suuid = str(uuid.uuid4())\n",
        "  filename_preview = f\"{TEMP_DIR}/{str(uuid.uuid4())}.jpg\"\n",
        "  cv2.imwrite(filename_preview, frame)\n",
        "  \n",
        "  # Add to dp and s3\n",
        "  add_file_to_s3(filename_preview, f'{input_video_name}/{suuid}.jpg')\n",
        "  video_id = pg_one_select_query(query=f\"\"\"\n",
        "                                INSERT INTO videos(name, preview_path) \n",
        "                                VALUES (%s)\n",
        "                                RETURNING id;\n",
        "                                \"\"\", param=(input_video_name, f'{input_video_name}/{suuid}.jpg'))\n",
        "  # Remove tmp file\n",
        "  os.remove(filename_preview)"
      ]
    },
    {
      "cell_type": "markdown",
      "metadata": {
        "id": "K12Pvpx0FkXl"
      },
      "source": [
        "### Main processing"
      ]
    },
    {
      "cell_type": "code",
      "execution_count": null,
      "metadata": {
        "id": "9xrNJP64LpDu"
      },
      "outputs": [],
      "source": [
        "markup = pd.read_csv(MARKUP_FILE)\n",
        "video_markup = markup[~(markup.event.isin(['start', 'end']))]\n",
        "video_markup = video_markup[video_markup.video_id == input_video_name]\n",
        "video_markup = video_markup[video_markup.time < 900]"
      ]
    },
    {
      "cell_type": "code",
      "execution_count": null,
      "metadata": {
        "colab": {
          "base_uri": "https://localhost:8080/",
          "height": 424
        },
        "id": "c7Dxv-2MLvaX",
        "outputId": "03487424-f5b5-46c6-f571-ec636edf9349"
      },
      "outputs": [
        {
          "data": {
            "text/html": [
              "\n",
              "  <div id=\"df-c18027de-9329-47fc-8486-fa3dacfcaf74\">\n",
              "    <div class=\"colab-df-container\">\n",
              "      <div>\n",
              "<style scoped>\n",
              "    .dataframe tbody tr th:only-of-type {\n",
              "        vertical-align: middle;\n",
              "    }\n",
              "\n",
              "    .dataframe tbody tr th {\n",
              "        vertical-align: top;\n",
              "    }\n",
              "\n",
              "    .dataframe thead th {\n",
              "        text-align: right;\n",
              "    }\n",
              "</style>\n",
              "<table border=\"1\" class=\"dataframe\">\n",
              "  <thead>\n",
              "    <tr style=\"text-align: right;\">\n",
              "      <th></th>\n",
              "      <th>video_id</th>\n",
              "      <th>time</th>\n",
              "      <th>event</th>\n",
              "      <th>event_attributes</th>\n",
              "    </tr>\n",
              "  </thead>\n",
              "  <tbody>\n",
              "    <tr>\n",
              "      <th>1</th>\n",
              "      <td>1606b0e6_0</td>\n",
              "      <td>201.15</td>\n",
              "      <td>challenge</td>\n",
              "      <td>['ball_action_forced']</td>\n",
              "    </tr>\n",
              "    <tr>\n",
              "      <th>4</th>\n",
              "      <td>1606b0e6_0</td>\n",
              "      <td>210.87</td>\n",
              "      <td>challenge</td>\n",
              "      <td>['opponent_dispossessed']</td>\n",
              "    </tr>\n",
              "    <tr>\n",
              "      <th>7</th>\n",
              "      <td>1606b0e6_0</td>\n",
              "      <td>219.23</td>\n",
              "      <td>throwin</td>\n",
              "      <td>['pass']</td>\n",
              "    </tr>\n",
              "    <tr>\n",
              "      <th>10</th>\n",
              "      <td>1606b0e6_0</td>\n",
              "      <td>224.43</td>\n",
              "      <td>play</td>\n",
              "      <td>['pass', 'openplay']</td>\n",
              "    </tr>\n",
              "    <tr>\n",
              "      <th>13</th>\n",
              "      <td>1606b0e6_0</td>\n",
              "      <td>229.39</td>\n",
              "      <td>play</td>\n",
              "      <td>['pass', 'openplay']</td>\n",
              "    </tr>\n",
              "    <tr>\n",
              "      <th>...</th>\n",
              "      <td>...</td>\n",
              "      <td>...</td>\n",
              "      <td>...</td>\n",
              "      <td>...</td>\n",
              "    </tr>\n",
              "    <tr>\n",
              "      <th>268</th>\n",
              "      <td>1606b0e6_0</td>\n",
              "      <td>878.03</td>\n",
              "      <td>play</td>\n",
              "      <td>['pass', 'openplay']</td>\n",
              "    </tr>\n",
              "    <tr>\n",
              "      <th>271</th>\n",
              "      <td>1606b0e6_0</td>\n",
              "      <td>884.55</td>\n",
              "      <td>play</td>\n",
              "      <td>['pass', 'openplay']</td>\n",
              "    </tr>\n",
              "    <tr>\n",
              "      <th>274</th>\n",
              "      <td>1606b0e6_0</td>\n",
              "      <td>889.03</td>\n",
              "      <td>play</td>\n",
              "      <td>['pass', 'openplay']</td>\n",
              "    </tr>\n",
              "    <tr>\n",
              "      <th>277</th>\n",
              "      <td>1606b0e6_0</td>\n",
              "      <td>893.35</td>\n",
              "      <td>play</td>\n",
              "      <td>['pass', 'openplay']</td>\n",
              "    </tr>\n",
              "    <tr>\n",
              "      <th>280</th>\n",
              "      <td>1606b0e6_0</td>\n",
              "      <td>898.39</td>\n",
              "      <td>play</td>\n",
              "      <td>['pass', 'openplay']</td>\n",
              "    </tr>\n",
              "  </tbody>\n",
              "</table>\n",
              "<p>110 rows × 4 columns</p>\n",
              "</div>\n",
              "      <button class=\"colab-df-convert\" onclick=\"convertToInteractive('df-c18027de-9329-47fc-8486-fa3dacfcaf74')\"\n",
              "              title=\"Convert this dataframe to an interactive table.\"\n",
              "              style=\"display:none;\">\n",
              "        \n",
              "  <svg xmlns=\"http://www.w3.org/2000/svg\" height=\"24px\"viewBox=\"0 0 24 24\"\n",
              "       width=\"24px\">\n",
              "    <path d=\"M0 0h24v24H0V0z\" fill=\"none\"/>\n",
              "    <path d=\"M18.56 5.44l.94 2.06.94-2.06 2.06-.94-2.06-.94-.94-2.06-.94 2.06-2.06.94zm-11 1L8.5 8.5l.94-2.06 2.06-.94-2.06-.94L8.5 2.5l-.94 2.06-2.06.94zm10 10l.94 2.06.94-2.06 2.06-.94-2.06-.94-.94-2.06-.94 2.06-2.06.94z\"/><path d=\"M17.41 7.96l-1.37-1.37c-.4-.4-.92-.59-1.43-.59-.52 0-1.04.2-1.43.59L10.3 9.45l-7.72 7.72c-.78.78-.78 2.05 0 2.83L4 21.41c.39.39.9.59 1.41.59.51 0 1.02-.2 1.41-.59l7.78-7.78 2.81-2.81c.8-.78.8-2.07 0-2.86zM5.41 20L4 18.59l7.72-7.72 1.47 1.35L5.41 20z\"/>\n",
              "  </svg>\n",
              "      </button>\n",
              "      \n",
              "  <style>\n",
              "    .colab-df-container {\n",
              "      display:flex;\n",
              "      flex-wrap:wrap;\n",
              "      gap: 12px;\n",
              "    }\n",
              "\n",
              "    .colab-df-convert {\n",
              "      background-color: #E8F0FE;\n",
              "      border: none;\n",
              "      border-radius: 50%;\n",
              "      cursor: pointer;\n",
              "      display: none;\n",
              "      fill: #1967D2;\n",
              "      height: 32px;\n",
              "      padding: 0 0 0 0;\n",
              "      width: 32px;\n",
              "    }\n",
              "\n",
              "    .colab-df-convert:hover {\n",
              "      background-color: #E2EBFA;\n",
              "      box-shadow: 0px 1px 2px rgba(60, 64, 67, 0.3), 0px 1px 3px 1px rgba(60, 64, 67, 0.15);\n",
              "      fill: #174EA6;\n",
              "    }\n",
              "\n",
              "    [theme=dark] .colab-df-convert {\n",
              "      background-color: #3B4455;\n",
              "      fill: #D2E3FC;\n",
              "    }\n",
              "\n",
              "    [theme=dark] .colab-df-convert:hover {\n",
              "      background-color: #434B5C;\n",
              "      box-shadow: 0px 1px 3px 1px rgba(0, 0, 0, 0.15);\n",
              "      filter: drop-shadow(0px 1px 2px rgba(0, 0, 0, 0.3));\n",
              "      fill: #FFFFFF;\n",
              "    }\n",
              "  </style>\n",
              "\n",
              "      <script>\n",
              "        const buttonEl =\n",
              "          document.querySelector('#df-c18027de-9329-47fc-8486-fa3dacfcaf74 button.colab-df-convert');\n",
              "        buttonEl.style.display =\n",
              "          google.colab.kernel.accessAllowed ? 'block' : 'none';\n",
              "\n",
              "        async function convertToInteractive(key) {\n",
              "          const element = document.querySelector('#df-c18027de-9329-47fc-8486-fa3dacfcaf74');\n",
              "          const dataTable =\n",
              "            await google.colab.kernel.invokeFunction('convertToInteractive',\n",
              "                                                     [key], {});\n",
              "          if (!dataTable) return;\n",
              "\n",
              "          const docLinkHtml = 'Like what you see? Visit the ' +\n",
              "            '<a target=\"_blank\" href=https://colab.research.google.com/notebooks/data_table.ipynb>data table notebook</a>'\n",
              "            + ' to learn more about interactive tables.';\n",
              "          element.innerHTML = '';\n",
              "          dataTable['output_type'] = 'display_data';\n",
              "          await google.colab.output.renderOutput(dataTable, element);\n",
              "          const docLink = document.createElement('div');\n",
              "          docLink.innerHTML = docLinkHtml;\n",
              "          element.appendChild(docLink);\n",
              "        }\n",
              "      </script>\n",
              "    </div>\n",
              "  </div>\n",
              "  "
            ],
            "text/plain": [
              "       video_id    time      event           event_attributes\n",
              "1    1606b0e6_0  201.15  challenge     ['ball_action_forced']\n",
              "4    1606b0e6_0  210.87  challenge  ['opponent_dispossessed']\n",
              "7    1606b0e6_0  219.23    throwin                   ['pass']\n",
              "10   1606b0e6_0  224.43       play       ['pass', 'openplay']\n",
              "13   1606b0e6_0  229.39       play       ['pass', 'openplay']\n",
              "..          ...     ...        ...                        ...\n",
              "268  1606b0e6_0  878.03       play       ['pass', 'openplay']\n",
              "271  1606b0e6_0  884.55       play       ['pass', 'openplay']\n",
              "274  1606b0e6_0  889.03       play       ['pass', 'openplay']\n",
              "277  1606b0e6_0  893.35       play       ['pass', 'openplay']\n",
              "280  1606b0e6_0  898.39       play       ['pass', 'openplay']\n",
              "\n",
              "[110 rows x 4 columns]"
            ]
          },
          "execution_count": 37,
          "metadata": {},
          "output_type": "execute_result"
        }
      ],
      "source": [
        "video_markup"
      ]
    },
    {
      "cell_type": "code",
      "execution_count": null,
      "metadata": {
        "colab": {
          "background_save": true,
          "base_uri": "https://localhost:8080/"
        },
        "id": "xg04LbC2QJD8",
        "outputId": "0a663240-968c-441a-9d8a-c662afa06f33"
      },
      "outputs": [
        {
          "name": "stderr",
          "output_type": "stream",
          "text": [
            "59it [59:54, 59.13s/it]"
          ]
        }
      ],
      "source": [
        "for index, row in tqdm(video_markup.iterrows()):\n",
        "  timestamp = row[\"time\"]\n",
        "  action = row[\"event\"]\n",
        "  # Calc time for subclip\n",
        "  start_t = max(timestamp - TIME_WINDOW, 0)\n",
        "  # TODO: Find video time duration \n",
        "  end_t = timestamp + TIME_WINDOW\n",
        "\n",
        "  suuid = str(uuid.uuid4())\n",
        "  filename_mp4 = f\"{OUTPUT_DIR}/{suuid}.mp4\"\n",
        "  filename_h264 = f\"{OUTPUT_DIR}/{suuid}.h264\"\n",
        "\n",
        "  # Extract subclip\n",
        "  cut_command = f\"ffmpeg -ss {start_t} -i {TMP_VIDEO} -t {2*TIME_WINDOW} -async 1 {filename_mp4}\"\n",
        "  process = subprocess.run(cut_command.split(), stdout=subprocess.PIPE)\n",
        "\n",
        "  # Extract subclip\n",
        "  cut_command = f\"ffmpeg -i {filename_mp4} -an -vcodec libx264 -crf 23 {filename_h264}\"\n",
        "  process = subprocess.run(cut_command.split(), stdout=subprocess.PIPE)\n",
        "\n",
        "  add_file_to_s3(filename_h264, f'{input_video_name}/{suuid}.h264')\n",
        "  add_clip_to_db(video_id, action, timestamp, f'{input_video_name}/{suuid}.h264')\n",
        "\n",
        "  os.remove(filename_mp4)\n",
        "  os.remove(filename_h264)"
      ]
    },
    {
      "cell_type": "code",
      "execution_count": null,
      "metadata": {
        "id": "aMJSIGUsZ1Go"
      },
      "outputs": [],
      "source": [
        "!rm -rf /content/clip_video/*"
      ]
    }
  ],
  "metadata": {
    "accelerator": "GPU",
    "colab": {
      "collapsed_sections": [],
      "provenance": []
    },
    "kernelspec": {
      "display_name": "Python 3.10.6 64-bit",
      "language": "python",
      "name": "python3"
    },
    "language_info": {
      "name": "python",
      "version": "3.10.6"
    },
    "vscode": {
      "interpreter": {
        "hash": "e7370f93d1d0cde622a1f8e1c04877d8463912d04d973331ad4851f04de6915a"
      }
    }
  },
  "nbformat": 4,
  "nbformat_minor": 0
}
